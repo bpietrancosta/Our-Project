{
 "cells": [
  {
   "attachments": {},
   "cell_type": "markdown",
   "metadata": {},
   "source": [
    "# UCF Data Analytics Bootcamp\n",
    "## Final Project: Mental Health Prediction\n",
    "\n",
    "For employment data we selected the following source:\n",
    "\n",
    "https://data.bls.gov/cew/data/files/2020/csv/2020_annual_by_area.zip\n",
    "\n",
    "The data describes the Quarterly Census of Employment and Wages (QCEW) at a FIPS code (county) level for the year 2020.  However, there are a few issues with the current file that don't allow it to be readily used for machine learning:\n"
   ]
  },
  {
   "cell_type": "code",
   "execution_count": 1,
   "metadata": {},
   "outputs": [],
   "source": [
    "import pandas as pd"
   ]
  },
  {
   "cell_type": "markdown",
   "metadata": {},
   "source": []
  },
  {
   "cell_type": "code",
   "execution_count": 4,
   "metadata": {},
   "outputs": [
    {
     "name": "stderr",
     "output_type": "stream",
     "text": [
      "C:\\Users\\ryann\\AppData\\Local\\Temp\\ipykernel_20228\\118020660.py:1: DtypeWarning: Columns (0) have mixed types. Specify dtype option on import or set low_memory=False.\n",
      "  base_df = pd.read_csv('../data/2020.annual.singlefile.csv')\n"
     ]
    },
    {
     "data": {
      "text/html": [
       "<div>\n",
       "<style scoped>\n",
       "    .dataframe tbody tr th:only-of-type {\n",
       "        vertical-align: middle;\n",
       "    }\n",
       "\n",
       "    .dataframe tbody tr th {\n",
       "        vertical-align: top;\n",
       "    }\n",
       "\n",
       "    .dataframe thead th {\n",
       "        text-align: right;\n",
       "    }\n",
       "</style>\n",
       "<table border=\"1\" class=\"dataframe\">\n",
       "  <thead>\n",
       "    <tr style=\"text-align: right;\">\n",
       "      <th></th>\n",
       "      <th>area_fips</th>\n",
       "      <th>own_code</th>\n",
       "      <th>industry_code</th>\n",
       "      <th>agglvl_code</th>\n",
       "      <th>size_code</th>\n",
       "      <th>year</th>\n",
       "      <th>qtr</th>\n",
       "      <th>disclosure_code</th>\n",
       "      <th>annual_avg_estabs</th>\n",
       "      <th>annual_avg_emplvl</th>\n",
       "      <th>...</th>\n",
       "      <th>oty_total_annual_wages_chg</th>\n",
       "      <th>oty_total_annual_wages_pct_chg</th>\n",
       "      <th>oty_taxable_annual_wages_chg</th>\n",
       "      <th>oty_taxable_annual_wages_pct_chg</th>\n",
       "      <th>oty_annual_contributions_chg</th>\n",
       "      <th>oty_annual_contributions_pct_chg</th>\n",
       "      <th>oty_annual_avg_wkly_wage_chg</th>\n",
       "      <th>oty_annual_avg_wkly_wage_pct_chg</th>\n",
       "      <th>oty_avg_annual_pay_chg</th>\n",
       "      <th>oty_avg_annual_pay_pct_chg</th>\n",
       "    </tr>\n",
       "  </thead>\n",
       "  <tbody>\n",
       "    <tr>\n",
       "      <th>0</th>\n",
       "      <td>1000</td>\n",
       "      <td>0</td>\n",
       "      <td>10</td>\n",
       "      <td>50</td>\n",
       "      <td>0</td>\n",
       "      <td>2020</td>\n",
       "      <td>A</td>\n",
       "      <td>NaN</td>\n",
       "      <td>132126</td>\n",
       "      <td>1909145</td>\n",
       "      <td>...</td>\n",
       "      <td>2507023243</td>\n",
       "      <td>2.6</td>\n",
       "      <td>-275546557</td>\n",
       "      <td>-1.7</td>\n",
       "      <td>-17501048</td>\n",
       "      <td>-9.0</td>\n",
       "      <td>65</td>\n",
       "      <td>6.9</td>\n",
       "      <td>3371</td>\n",
       "      <td>6.9</td>\n",
       "    </tr>\n",
       "    <tr>\n",
       "      <th>1</th>\n",
       "      <td>1000</td>\n",
       "      <td>1</td>\n",
       "      <td>10</td>\n",
       "      <td>51</td>\n",
       "      <td>0</td>\n",
       "      <td>2020</td>\n",
       "      <td>A</td>\n",
       "      <td>NaN</td>\n",
       "      <td>1250</td>\n",
       "      <td>55888</td>\n",
       "      <td>...</td>\n",
       "      <td>239488772</td>\n",
       "      <td>5.2</td>\n",
       "      <td>0</td>\n",
       "      <td>0.0</td>\n",
       "      <td>0</td>\n",
       "      <td>0.0</td>\n",
       "      <td>29</td>\n",
       "      <td>1.8</td>\n",
       "      <td>1508</td>\n",
       "      <td>1.8</td>\n",
       "    </tr>\n",
       "    <tr>\n",
       "      <th>2</th>\n",
       "      <td>1000</td>\n",
       "      <td>1</td>\n",
       "      <td>102</td>\n",
       "      <td>52</td>\n",
       "      <td>0</td>\n",
       "      <td>2020</td>\n",
       "      <td>A</td>\n",
       "      <td>NaN</td>\n",
       "      <td>1250</td>\n",
       "      <td>55888</td>\n",
       "      <td>...</td>\n",
       "      <td>239488772</td>\n",
       "      <td>5.2</td>\n",
       "      <td>0</td>\n",
       "      <td>0.0</td>\n",
       "      <td>0</td>\n",
       "      <td>0.0</td>\n",
       "      <td>29</td>\n",
       "      <td>1.8</td>\n",
       "      <td>1508</td>\n",
       "      <td>1.8</td>\n",
       "    </tr>\n",
       "    <tr>\n",
       "      <th>3</th>\n",
       "      <td>1000</td>\n",
       "      <td>1</td>\n",
       "      <td>1021</td>\n",
       "      <td>53</td>\n",
       "      <td>0</td>\n",
       "      <td>2020</td>\n",
       "      <td>A</td>\n",
       "      <td>NaN</td>\n",
       "      <td>617</td>\n",
       "      <td>11193</td>\n",
       "      <td>...</td>\n",
       "      <td>42231595</td>\n",
       "      <td>5.8</td>\n",
       "      <td>0</td>\n",
       "      <td>0.0</td>\n",
       "      <td>0</td>\n",
       "      <td>0.0</td>\n",
       "      <td>64</td>\n",
       "      <td>5.0</td>\n",
       "      <td>3336</td>\n",
       "      <td>5.1</td>\n",
       "    </tr>\n",
       "    <tr>\n",
       "      <th>4</th>\n",
       "      <td>1000</td>\n",
       "      <td>1</td>\n",
       "      <td>1022</td>\n",
       "      <td>53</td>\n",
       "      <td>0</td>\n",
       "      <td>2020</td>\n",
       "      <td>A</td>\n",
       "      <td>NaN</td>\n",
       "      <td>2</td>\n",
       "      <td>11</td>\n",
       "      <td>...</td>\n",
       "      <td>24145</td>\n",
       "      <td>7.7</td>\n",
       "      <td>0</td>\n",
       "      <td>0.0</td>\n",
       "      <td>0</td>\n",
       "      <td>0.0</td>\n",
       "      <td>68</td>\n",
       "      <td>12.7</td>\n",
       "      <td>3539</td>\n",
       "      <td>12.7</td>\n",
       "    </tr>\n",
       "  </tbody>\n",
       "</table>\n",
       "<p>5 rows × 38 columns</p>\n",
       "</div>"
      ],
      "text/plain": [
       "  area_fips  own_code industry_code  agglvl_code  size_code  year qtr  \\\n",
       "0      1000         0            10           50          0  2020   A   \n",
       "1      1000         1            10           51          0  2020   A   \n",
       "2      1000         1           102           52          0  2020   A   \n",
       "3      1000         1          1021           53          0  2020   A   \n",
       "4      1000         1          1022           53          0  2020   A   \n",
       "\n",
       "  disclosure_code  annual_avg_estabs  annual_avg_emplvl  ...  \\\n",
       "0             NaN             132126            1909145  ...   \n",
       "1             NaN               1250              55888  ...   \n",
       "2             NaN               1250              55888  ...   \n",
       "3             NaN                617              11193  ...   \n",
       "4             NaN                  2                 11  ...   \n",
       "\n",
       "   oty_total_annual_wages_chg  oty_total_annual_wages_pct_chg  \\\n",
       "0                  2507023243                             2.6   \n",
       "1                   239488772                             5.2   \n",
       "2                   239488772                             5.2   \n",
       "3                    42231595                             5.8   \n",
       "4                       24145                             7.7   \n",
       "\n",
       "   oty_taxable_annual_wages_chg  oty_taxable_annual_wages_pct_chg  \\\n",
       "0                    -275546557                              -1.7   \n",
       "1                             0                               0.0   \n",
       "2                             0                               0.0   \n",
       "3                             0                               0.0   \n",
       "4                             0                               0.0   \n",
       "\n",
       "   oty_annual_contributions_chg oty_annual_contributions_pct_chg  \\\n",
       "0                     -17501048                             -9.0   \n",
       "1                             0                              0.0   \n",
       "2                             0                              0.0   \n",
       "3                             0                              0.0   \n",
       "4                             0                              0.0   \n",
       "\n",
       "   oty_annual_avg_wkly_wage_chg  oty_annual_avg_wkly_wage_pct_chg  \\\n",
       "0                            65                               6.9   \n",
       "1                            29                               1.8   \n",
       "2                            29                               1.8   \n",
       "3                            64                               5.0   \n",
       "4                            68                              12.7   \n",
       "\n",
       "   oty_avg_annual_pay_chg  oty_avg_annual_pay_pct_chg  \n",
       "0                    3371                         6.9  \n",
       "1                    1508                         1.8  \n",
       "2                    1508                         1.8  \n",
       "3                    3336                         5.1  \n",
       "4                    3539                        12.7  \n",
       "\n",
       "[5 rows x 38 columns]"
      ]
     },
     "execution_count": 4,
     "metadata": {},
     "output_type": "execute_result"
    }
   ],
   "source": [
    "base_df = pd.read_csv('../empdata/2020.annual.singlefile.csv')\n",
    "base_df.head()"
   ]
  },
  {
   "cell_type": "code",
   "execution_count": 5,
   "metadata": {},
   "outputs": [
    {
     "data": {
      "text/plain": [
       "array(['10', '102', '1021', ..., '111930', '212324', '212392'],\n",
       "      dtype=object)"
      ]
     },
     "execution_count": 5,
     "metadata": {},
     "output_type": "execute_result"
    }
   ],
   "source": [
    "base_df.industry_code.unique()"
   ]
  },
  {
   "attachments": {},
   "cell_type": "markdown",
   "metadata": {},
   "source": [
    "This table breaks down employment by industry codes. We will need to import a table that converts the industry code to text so we know what jobs we are working with. "
   ]
  },
  {
   "cell_type": "code",
   "execution_count": 6,
   "metadata": {},
   "outputs": [
    {
     "data": {
      "text/plain": [
       "<bound method NDFrame.head of       level    code                                               name notes\n",
       "0         2      11         Agriculture, Forestry, Fishing and Hunting   NaN\n",
       "1         3     111                                    Crop Production   NaN\n",
       "2         4    1111                          Oilseed and Grain Farming   NaN\n",
       "3         5   11111                                    Soybean Farming   NaN\n",
       "4         6  111110                                    Soybean Farming   NaN\n",
       "...     ...     ...                                                ...   ...\n",
       "2070      6  914110                   Aboriginal Public Administration   CAN\n",
       "2071      3     919  International and Other Extra-Territorial Publ...   CAN\n",
       "2072      4    9191  International and Other Extra-Territorial Publ...   CAN\n",
       "2073      5   91911  International and Other Extra-Territorial Publ...   CAN\n",
       "2074      6  919110  International and Other Extra-Territorial Publ...   CAN\n",
       "\n",
       "[2075 rows x 4 columns]>"
      ]
     },
     "execution_count": 6,
     "metadata": {},
     "output_type": "execute_result"
    }
   ],
   "source": [
    "naics_df = pd.read_csv('../empdata/naics.csv')\n",
    "naics_df.head"
   ]
  },
  {
   "cell_type": "code",
   "execution_count": 8,
   "metadata": {},
   "outputs": [
    {
     "data": {
      "text/plain": [
       "4430"
      ]
     },
     "execution_count": 8,
     "metadata": {},
     "output_type": "execute_result"
    }
   ],
   "source": [
    "base_df.area_fips.nunique()"
   ]
  },
  {
   "cell_type": "code",
   "execution_count": null,
   "metadata": {},
   "outputs": [],
   "source": []
  }
 ],
 "metadata": {
  "kernelspec": {
   "display_name": "PythonData",
   "language": "python",
   "name": "python3"
  },
  "language_info": {
   "codemirror_mode": {
    "name": "ipython",
    "version": 3
   },
   "file_extension": ".py",
   "mimetype": "text/x-python",
   "name": "python",
   "nbconvert_exporter": "python",
   "pygments_lexer": "ipython3",
   "version": "3.10.8"
  },
  "orig_nbformat": 4,
  "vscode": {
   "interpreter": {
    "hash": "16ffee840ad47a04f23535b3f96e084403af91e70c86b0775027a0df633e4a8d"
   }
  }
 },
 "nbformat": 4,
 "nbformat_minor": 2
}
