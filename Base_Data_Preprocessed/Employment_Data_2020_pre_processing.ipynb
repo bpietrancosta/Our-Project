{
 "cells": [
  {
   "attachments": {},
   "cell_type": "markdown",
   "metadata": {},
   "source": [
    "# UCF Data Analytics Bootcamp\n",
    "## Final Project: Mental Health Prediction\n",
    "\n",
    "For employment data we selected the following source:\n",
    "\n",
    "https://www.bls.gov/cew/downloadable-data-files.htm\n",
    "https://data.bls.gov/cew/data/files/2020/csv/2020_annual_by_area.zip\n",
    "\n",
    "The data describes the Quarterly Census of Employment and Wages (QCEW) at a FIPS code (county) level for the year 2020.  However, there are a few issues with the current file that don't allow it to be readily used for machine learning:\n"
   ]
  },
  {
   "cell_type": "code",
   "execution_count": 5,
   "metadata": {},
   "outputs": [],
   "source": [
    "import pandas as pd"
   ]
  },
  {
   "attachments": {},
   "cell_type": "markdown",
   "metadata": {},
   "source": [
    "The base singlefile table 492Mb encompasing 136,904,842 data points. It logs 2020s wage data sorting by job category [industry code] and location [area fips]. While it covers more specific employment data by location and over the year (oty) changes in wages, for our purposes we only need the average salary for each category per area. "
   ]
  },
  {
   "cell_type": "code",
   "execution_count": 19,
   "metadata": {},
   "outputs": [
    {
     "name": "stderr",
     "output_type": "stream",
     "text": [
      "C:\\Users\\ryann\\AppData\\Local\\Temp\\ipykernel_31004\\2861328735.py:1: DtypeWarning: Columns (0) have mixed types. Specify dtype option on import or set low_memory=False.\n",
      "  base_df = pd.read_csv('empdata/2020.annual.singlefile.csv')\n"
     ]
    },
    {
     "data": {
      "text/html": [
       "<div>\n",
       "<style scoped>\n",
       "    .dataframe tbody tr th:only-of-type {\n",
       "        vertical-align: middle;\n",
       "    }\n",
       "\n",
       "    .dataframe tbody tr th {\n",
       "        vertical-align: top;\n",
       "    }\n",
       "\n",
       "    .dataframe thead th {\n",
       "        text-align: right;\n",
       "    }\n",
       "</style>\n",
       "<table border=\"1\" class=\"dataframe\">\n",
       "  <thead>\n",
       "    <tr style=\"text-align: right;\">\n",
       "      <th></th>\n",
       "      <th>area_fips</th>\n",
       "      <th>own_code</th>\n",
       "      <th>industry_code</th>\n",
       "      <th>agglvl_code</th>\n",
       "      <th>size_code</th>\n",
       "      <th>year</th>\n",
       "      <th>qtr</th>\n",
       "      <th>disclosure_code</th>\n",
       "      <th>annual_avg_estabs</th>\n",
       "      <th>annual_avg_emplvl</th>\n",
       "      <th>...</th>\n",
       "      <th>oty_total_annual_wages_chg</th>\n",
       "      <th>oty_total_annual_wages_pct_chg</th>\n",
       "      <th>oty_taxable_annual_wages_chg</th>\n",
       "      <th>oty_taxable_annual_wages_pct_chg</th>\n",
       "      <th>oty_annual_contributions_chg</th>\n",
       "      <th>oty_annual_contributions_pct_chg</th>\n",
       "      <th>oty_annual_avg_wkly_wage_chg</th>\n",
       "      <th>oty_annual_avg_wkly_wage_pct_chg</th>\n",
       "      <th>oty_avg_annual_pay_chg</th>\n",
       "      <th>oty_avg_annual_pay_pct_chg</th>\n",
       "    </tr>\n",
       "  </thead>\n",
       "  <tbody>\n",
       "    <tr>\n",
       "      <th>3602755</th>\n",
       "      <td>US000</td>\n",
       "      <td>8</td>\n",
       "      <td>10</td>\n",
       "      <td>95</td>\n",
       "      <td>0</td>\n",
       "      <td>2020</td>\n",
       "      <td>A</td>\n",
       "      <td>NaN</td>\n",
       "      <td>302412</td>\n",
       "      <td>21163762</td>\n",
       "      <td>...</td>\n",
       "      <td>39901028476</td>\n",
       "      <td>3.1</td>\n",
       "      <td>-95245695</td>\n",
       "      <td>-0.3</td>\n",
       "      <td>-8793026</td>\n",
       "      <td>-4.4</td>\n",
       "      <td>68</td>\n",
       "      <td>6.0</td>\n",
       "      <td>3516</td>\n",
       "      <td>5.9</td>\n",
       "    </tr>\n",
       "    <tr>\n",
       "      <th>3602756</th>\n",
       "      <td>US000</td>\n",
       "      <td>9</td>\n",
       "      <td>10</td>\n",
       "      <td>94</td>\n",
       "      <td>0</td>\n",
       "      <td>2020</td>\n",
       "      <td>A</td>\n",
       "      <td>NaN</td>\n",
       "      <td>10426378</td>\n",
       "      <td>136175737</td>\n",
       "      <td>...</td>\n",
       "      <td>124351500307</td>\n",
       "      <td>1.5</td>\n",
       "      <td>-51272621069</td>\n",
       "      <td>-2.9</td>\n",
       "      <td>-3452466563</td>\n",
       "      <td>-10.6</td>\n",
       "      <td>93</td>\n",
       "      <td>8.2</td>\n",
       "      <td>4839</td>\n",
       "      <td>8.2</td>\n",
       "    </tr>\n",
       "    <tr>\n",
       "      <th>3602757</th>\n",
       "      <td>USCMS</td>\n",
       "      <td>0</td>\n",
       "      <td>10</td>\n",
       "      <td>92</td>\n",
       "      <td>0</td>\n",
       "      <td>2020</td>\n",
       "      <td>A</td>\n",
       "      <td>NaN</td>\n",
       "      <td>7525743</td>\n",
       "      <td>106280879</td>\n",
       "      <td>...</td>\n",
       "      <td>87827423556</td>\n",
       "      <td>1.3</td>\n",
       "      <td>-42225283621</td>\n",
       "      <td>-3.1</td>\n",
       "      <td>-2751281643</td>\n",
       "      <td>-10.6</td>\n",
       "      <td>99</td>\n",
       "      <td>8.4</td>\n",
       "      <td>5118</td>\n",
       "      <td>8.3</td>\n",
       "    </tr>\n",
       "    <tr>\n",
       "      <th>3602758</th>\n",
       "      <td>USMSA</td>\n",
       "      <td>0</td>\n",
       "      <td>10</td>\n",
       "      <td>91</td>\n",
       "      <td>0</td>\n",
       "      <td>2020</td>\n",
       "      <td>A</td>\n",
       "      <td>NaN</td>\n",
       "      <td>8472291</td>\n",
       "      <td>120199570</td>\n",
       "      <td>...</td>\n",
       "      <td>110506897751</td>\n",
       "      <td>1.4</td>\n",
       "      <td>-47498008565</td>\n",
       "      <td>-3.2</td>\n",
       "      <td>-3020745780</td>\n",
       "      <td>-10.6</td>\n",
       "      <td>97</td>\n",
       "      <td>8.3</td>\n",
       "      <td>5028</td>\n",
       "      <td>8.3</td>\n",
       "    </tr>\n",
       "    <tr>\n",
       "      <th>3602759</th>\n",
       "      <td>USNMS</td>\n",
       "      <td>0</td>\n",
       "      <td>10</td>\n",
       "      <td>93</td>\n",
       "      <td>0</td>\n",
       "      <td>2020</td>\n",
       "      <td>A</td>\n",
       "      <td>NaN</td>\n",
       "      <td>2015396</td>\n",
       "      <td>18904204</td>\n",
       "      <td>...</td>\n",
       "      <td>25990995082</td>\n",
       "      <td>2.7</td>\n",
       "      <td>-3774612504</td>\n",
       "      <td>-1.5</td>\n",
       "      <td>-431720783</td>\n",
       "      <td>-10.1</td>\n",
       "      <td>70</td>\n",
       "      <td>7.4</td>\n",
       "      <td>3645</td>\n",
       "      <td>7.4</td>\n",
       "    </tr>\n",
       "  </tbody>\n",
       "</table>\n",
       "<p>5 rows × 38 columns</p>\n",
       "</div>"
      ],
      "text/plain": [
       "        area_fips  own_code industry_code  agglvl_code  size_code  year qtr  \\\n",
       "3602755     US000         8            10           95          0  2020   A   \n",
       "3602756     US000         9            10           94          0  2020   A   \n",
       "3602757     USCMS         0            10           92          0  2020   A   \n",
       "3602758     USMSA         0            10           91          0  2020   A   \n",
       "3602759     USNMS         0            10           93          0  2020   A   \n",
       "\n",
       "        disclosure_code  annual_avg_estabs  annual_avg_emplvl  ...  \\\n",
       "3602755             NaN             302412           21163762  ...   \n",
       "3602756             NaN           10426378          136175737  ...   \n",
       "3602757             NaN            7525743          106280879  ...   \n",
       "3602758             NaN            8472291          120199570  ...   \n",
       "3602759             NaN            2015396           18904204  ...   \n",
       "\n",
       "         oty_total_annual_wages_chg  oty_total_annual_wages_pct_chg  \\\n",
       "3602755                 39901028476                             3.1   \n",
       "3602756                124351500307                             1.5   \n",
       "3602757                 87827423556                             1.3   \n",
       "3602758                110506897751                             1.4   \n",
       "3602759                 25990995082                             2.7   \n",
       "\n",
       "         oty_taxable_annual_wages_chg  oty_taxable_annual_wages_pct_chg  \\\n",
       "3602755                     -95245695                              -0.3   \n",
       "3602756                  -51272621069                              -2.9   \n",
       "3602757                  -42225283621                              -3.1   \n",
       "3602758                  -47498008565                              -3.2   \n",
       "3602759                   -3774612504                              -1.5   \n",
       "\n",
       "         oty_annual_contributions_chg oty_annual_contributions_pct_chg  \\\n",
       "3602755                      -8793026                             -4.4   \n",
       "3602756                   -3452466563                            -10.6   \n",
       "3602757                   -2751281643                            -10.6   \n",
       "3602758                   -3020745780                            -10.6   \n",
       "3602759                    -431720783                            -10.1   \n",
       "\n",
       "         oty_annual_avg_wkly_wage_chg  oty_annual_avg_wkly_wage_pct_chg  \\\n",
       "3602755                            68                               6.0   \n",
       "3602756                            93                               8.2   \n",
       "3602757                            99                               8.4   \n",
       "3602758                            97                               8.3   \n",
       "3602759                            70                               7.4   \n",
       "\n",
       "         oty_avg_annual_pay_chg  oty_avg_annual_pay_pct_chg  \n",
       "3602755                    3516                         5.9  \n",
       "3602756                    4839                         8.2  \n",
       "3602757                    5118                         8.3  \n",
       "3602758                    5028                         8.3  \n",
       "3602759                    3645                         7.4  \n",
       "\n",
       "[5 rows x 38 columns]"
      ]
     },
     "execution_count": 19,
     "metadata": {},
     "output_type": "execute_result"
    }
   ],
   "source": [
    "base_df = pd.read_csv('empdata/2020.annual.singlefile.csv')\n",
    "base_df.tail()"
   ]
  },
  {
   "cell_type": "code",
   "execution_count": 7,
   "metadata": {},
   "outputs": [
    {
     "data": {
      "text/plain": [
       "array(['10', '102', '1021', ..., '111930', '212324', '212392'],\n",
       "      dtype=object)"
      ]
     },
     "execution_count": 7,
     "metadata": {},
     "output_type": "execute_result"
    }
   ],
   "source": [
    "base_df.industry_code.unique()"
   ]
  },
  {
   "attachments": {},
   "cell_type": "markdown",
   "metadata": {},
   "source": [
    "This table breaks down employment by industry codes. We will need to import a table that converts the industry code to text so we know what jobs we are working with. "
   ]
  },
  {
   "cell_type": "code",
   "execution_count": 9,
   "metadata": {},
   "outputs": [
    {
     "data": {
      "text/plain": [
       "<bound method NDFrame.head of       level    code                                               name notes\n",
       "0         2      11         Agriculture, Forestry, Fishing and Hunting   NaN\n",
       "1         3     111                                    Crop Production   NaN\n",
       "2         4    1111                          Oilseed and Grain Farming   NaN\n",
       "3         5   11111                                    Soybean Farming   NaN\n",
       "4         6  111110                                    Soybean Farming   NaN\n",
       "...     ...     ...                                                ...   ...\n",
       "2070      6  914110                   Aboriginal Public Administration   CAN\n",
       "2071      3     919  International and Other Extra-Territorial Publ...   CAN\n",
       "2072      4    9191  International and Other Extra-Territorial Publ...   CAN\n",
       "2073      5   91911  International and Other Extra-Territorial Publ...   CAN\n",
       "2074      6  919110  International and Other Extra-Territorial Publ...   CAN\n",
       "\n",
       "[2075 rows x 4 columns]>"
      ]
     },
     "execution_count": 9,
     "metadata": {},
     "output_type": "execute_result"
    }
   ],
   "source": [
    "naics_df = pd.read_csv('empdata/naics.csv')\n",
    "naics_df.head"
   ]
  },
  {
   "cell_type": "code",
   "execution_count": 10,
   "metadata": {},
   "outputs": [
    {
     "data": {
      "text/plain": [
       "4430"
      ]
     },
     "execution_count": 10,
     "metadata": {},
     "output_type": "execute_result"
    }
   ],
   "source": [
    "base_df.area_fips.nunique()"
   ]
  },
  {
   "attachments": {},
   "cell_type": "markdown",
   "metadata": {},
   "source": [
    "With the data narrowed to the desired perameters, a table with the employment salary data and a table with industry code descriptions are exported into their own csvs."
   ]
  },
  {
   "cell_type": "code",
   "execution_count": 13,
   "metadata": {},
   "outputs": [],
   "source": [
    "empdata_df = base_df.loc[:, ['area_fips','industry_code','total_annual_wages']]\n",
    "empdata_df.to_csv('Employment_measures.csv', index=False)"
   ]
  },
  {
   "cell_type": "code",
   "execution_count": 16,
   "metadata": {},
   "outputs": [],
   "source": [
    "industry_codes_df = naics_df.loc[:,['code','name']]\n",
    "industry_codes_df = industry_codes_df.rename(columns={'code':'industry_code'})\n",
    "industry_codes_df.to_csv('industry_codes.csv', index=False)"
   ]
  },
  {
   "cell_type": "code",
   "execution_count": 18,
   "metadata": {},
   "outputs": [
    {
     "name": "stdout",
     "output_type": "stream",
     "text": [
      "object\n"
     ]
    }
   ],
   "source": []
  },
  {
   "cell_type": "code",
   "execution_count": null,
   "metadata": {},
   "outputs": [],
   "source": []
  }
 ],
 "metadata": {
  "kernelspec": {
   "display_name": "PythonData",
   "language": "python",
   "name": "python3"
  },
  "language_info": {
   "codemirror_mode": {
    "name": "ipython",
    "version": 3
   },
   "file_extension": ".py",
   "mimetype": "text/x-python",
   "name": "python",
   "nbconvert_exporter": "python",
   "pygments_lexer": "ipython3",
   "version": "3.10.8"
  },
  "orig_nbformat": 4,
  "vscode": {
   "interpreter": {
    "hash": "16ffee840ad47a04f23535b3f96e084403af91e70c86b0775027a0df633e4a8d"
   }
  }
 },
 "nbformat": 4,
 "nbformat_minor": 2
}
